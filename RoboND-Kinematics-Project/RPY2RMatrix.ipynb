{
 "cells": [
  {
   "cell_type": "code",
   "execution_count": 1,
   "metadata": {},
   "outputs": [],
   "source": [
    "from sympy import symbols, cos, sin, pi, simplify, sqrt, atan2\n",
    "from sympy.matrices import Matrix\n",
    "import numpy as np"
   ]
  },
  {
   "cell_type": "code",
   "execution_count": 2,
   "metadata": {},
   "outputs": [],
   "source": [
    "### Create symbols for joint variables which are commonly represented by \"q\"\n",
    "### Joint variable \"q\" is equal to \"ϴ\" or \"d\" depending if the joint is revolute or prismatic\n",
    "q1, q2, q3, q4 = symbols('q1:5') # remember slices do not include the end value \n"
   ]
  },
  {
   "cell_type": "code",
   "execution_count": 3,
   "metadata": {},
   "outputs": [],
   "source": [
    "R_x = Matrix([[ 1,              0,        0],\n",
    "              [ 0,        cos(q1), -sin(q1)],\n",
    "              [ 0,        sin(q1),  cos(q1)]])\n",
    "\n",
    "R_y = Matrix([[ cos(q2),        0,  sin(q2)],\n",
    "              [       0,        1,        0],\n",
    "              [-sin(q2),        0,  cos(q2)]])\n",
    "\n",
    "R_z = Matrix([[ cos(q3), -sin(q3),        0],\n",
    "              [ sin(q3),  cos(q3),        0],\n",
    "              [ 0,              0,        1]])"
   ]
  },
  {
   "cell_type": "code",
   "execution_count": 35,
   "metadata": {},
   "outputs": [],
   "source": [
    "R_xyz = simplify(R_z*R_y*R_x)"
   ]
  },
  {
   "cell_type": "code",
   "execution_count": 40,
   "metadata": {},
   "outputs": [],
   "source": [
    "# Correction needed to account of orientation difference between definition of gripper link in URDF vs DH convention\n",
    "R_corr_z = Matrix([[     cos(np.pi),     -sin(np.pi),              0],\n",
    "                   [     sin(np.pi),      cos(np.pi),              0],\n",
    "                   [              0,               0,              1]])\n",
    "R_corr_y = Matrix([[  cos(-np.pi/2),               0,  sin(-np.pi/2)],\n",
    "                  [               0,               1,              0],\n",
    "                  [  -sin(-np.pi/2),               0,  cos(-np.pi/2)]])\n",
    "R_corr = simplify(R_corr_z * R_corr_y)"
   ]
  },
  {
   "cell_type": "code",
   "execution_count": 41,
   "metadata": {},
   "outputs": [],
   "source": [
    "R_xyz_corr = R_xyz * R_corr"
   ]
  },
  {
   "cell_type": "code",
   "execution_count": null,
   "metadata": {},
   "outputs": [],
   "source": []
  },
  {
   "cell_type": "code",
   "execution_count": 36,
   "metadata": {},
   "outputs": [
    {
     "name": "stdout",
     "output_type": "stream",
     "text": [
      "Matrix([[cos(q2)*cos(q3), sin(q1)*sin(q2)*cos(q3) - sin(q3)*cos(q1), sin(q1)*sin(q3) + sin(q2)*cos(q1)*cos(q3)], [sin(q3)*cos(q2), sin(q1)*sin(q2)*sin(q3) + cos(q1)*cos(q3), -sin(q1)*cos(q3) + sin(q2)*sin(q3)*cos(q1)], [-sin(q2), sin(q1)*cos(q2), cos(q1)*cos(q2)]])\n"
     ]
    }
   ],
   "source": [
    "print(R_xyz)"
   ]
  },
  {
   "cell_type": "code",
   "execution_count": 39,
   "metadata": {},
   "outputs": [
    {
     "name": "stdout",
     "output_type": "stream",
     "text": [
      "R_xyz =  Matrix([[0.543918773761106, 0.620196623596910, -0.565250843103491], [-0.780227183610153, 0.621720086472771, -0.0686270794370525], [0.308865520098932, 0.478351630242109, 0.822059491970461]])\n"
     ]
    }
   ],
   "source": [
    "# plug in the q1-q3 from rosrun tf tf_echo [base_frame] [target_frame]\n",
    "print(\"R_xyz = \", R_xyz.evalf(subs={q1: 0.527, q2: -0.314, q3: -0.962}))"
   ]
  },
  {
   "cell_type": "code",
   "execution_count": 42,
   "metadata": {},
   "outputs": [
    {
     "name": "stdout",
     "output_type": "stream",
     "text": [
      "R_xyz_corr =  Matrix([[-0.565250843103491, -0.620196623596910, 0.543918773761106], [-0.0686270794370525, -0.621720086472771, -0.780227183610153], [0.822059491970461, -0.478351630242109, 0.308865520098932]])\n"
     ]
    }
   ],
   "source": [
    "print(\"R_xyz_corr = \", R_xyz_corr.evalf(subs={q1: 0.527, q2: -0.314, q3: -0.962}))"
   ]
  },
  {
   "cell_type": "code",
   "execution_count": null,
   "metadata": {},
   "outputs": [],
   "source": []
  }
 ],
 "metadata": {
  "kernelspec": {
   "display_name": "Python 3",
   "language": "python",
   "name": "python3"
  },
  "language_info": {
   "codemirror_mode": {
    "name": "ipython",
    "version": 3
   },
   "file_extension": ".py",
   "mimetype": "text/x-python",
   "name": "python",
   "nbconvert_exporter": "python",
   "pygments_lexer": "ipython3",
   "version": "3.5.2"
  }
 },
 "nbformat": 4,
 "nbformat_minor": 2
}
