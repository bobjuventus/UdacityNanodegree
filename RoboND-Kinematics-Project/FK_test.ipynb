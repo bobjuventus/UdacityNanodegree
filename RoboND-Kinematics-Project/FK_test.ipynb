{
 "cells": [
  {
   "cell_type": "code",
   "execution_count": 1,
   "metadata": {},
   "outputs": [],
   "source": [
    "from sympy import symbols, cos, sin, pi, simplify, sqrt, atan2\n",
    "from sympy.matrices import Matrix\n",
    "import numpy as np"
   ]
  },
  {
   "cell_type": "code",
   "execution_count": 2,
   "metadata": {},
   "outputs": [],
   "source": [
    "### Your FK code here\n",
    "        # Create symbols\n",
    "q1, q2, q3, q4, q5, q6, q7 = symbols('q1:8')\n",
    "d1, d2, d3, d4, d5, d6, d7 = symbols('d1:8')\n",
    "a0, a1, a2, a3, a4, a5, a6 = symbols('a0:7')\n",
    "alpha0, alpha1, alpha2, alpha3, alpha4, alpha5, alpha6 = symbols('alpha0:7')"
   ]
  },
  {
   "cell_type": "code",
   "execution_count": 3,
   "metadata": {},
   "outputs": [],
   "source": [
    "# Create Modified DH parameters\n",
    "s = {alpha0:     0,  a0:      0,  d1:  0.75, \n",
    "     alpha1: -pi/2,  a1:   0.35,  d2:     0,  q2: q2-pi/2,\n",
    "     alpha2:     0,  a2:   1.25,  d3:     0,  \n",
    "     alpha3: -pi/2,  a3: -0.054,  d4:   1.5,\n",
    "     alpha4:  pi/2,  a4:      0,  d5:     0,\n",
    "     alpha5: -pi/2,  a5:      0,  d6:     0,\n",
    "     alpha6:     0,  a6:      0,  d7: 0.303,  q7:       0}"
   ]
  },
  {
   "cell_type": "code",
   "execution_count": 4,
   "metadata": {},
   "outputs": [],
   "source": [
    "# Define Modified DH Transformation matrix\n",
    "T0_1 = Matrix([[             cos(q1),            -sin(q1),            0,              a0],\n",
    "               [ sin(q1)*cos(alpha0), cos(q1)*cos(alpha0), -sin(alpha0), -sin(alpha0)*d1],\n",
    "               [ sin(q1)*sin(alpha0), cos(q1)*sin(alpha0),  cos(alpha0),  cos(alpha0)*d1],\n",
    "               [                   0,                   0,            0,               1]])\n",
    "T0_1 = T0_1.subs(s)\n",
    "\n",
    "T1_2 = Matrix([[             cos(q2),            -sin(q2),            0,              a1],\n",
    "               [ sin(q2)*cos(alpha1), cos(q2)*cos(alpha1), -sin(alpha1), -sin(alpha1)*d2],\n",
    "               [ sin(q2)*sin(alpha1), cos(q2)*sin(alpha1),  cos(alpha1),  cos(alpha1)*d2],\n",
    "               [                   0,                   0,            0,               1]])\n",
    "T1_2 = T1_2.subs(s)\n",
    "\n",
    "T2_3 = Matrix([[             cos(q3),            -sin(q3),            0,              a2],\n",
    "               [ sin(q3)*cos(alpha2), cos(q3)*cos(alpha2), -sin(alpha2), -sin(alpha2)*d3],\n",
    "               [ sin(q3)*sin(alpha2), cos(q3)*sin(alpha2),  cos(alpha2),  cos(alpha2)*d3],\n",
    "               [                   0,                   0,            0,               1]])\n",
    "T2_3 = T2_3.subs(s)\n",
    "\n",
    "T3_4 = Matrix([[             cos(q4),            -sin(q4),            0,              a3],\n",
    "               [ sin(q4)*cos(alpha3), cos(q4)*cos(alpha3), -sin(alpha3), -sin(alpha3)*d4],\n",
    "               [ sin(q4)*sin(alpha3), cos(q4)*sin(alpha3),  cos(alpha3),  cos(alpha3)*d4],\n",
    "               [                   0,                   0,            0,               1]])\n",
    "T3_4 = T3_4.subs(s)\n",
    "\n",
    "T4_5 = Matrix([[             cos(q5),            -sin(q5),            0,              a4],\n",
    "               [ sin(q5)*cos(alpha4), cos(q5)*cos(alpha4), -sin(alpha4), -sin(alpha4)*d5],\n",
    "               [ sin(q5)*sin(alpha4), cos(q5)*sin(alpha4),  cos(alpha4),  cos(alpha4)*d5],\n",
    "               [                   0,                   0,            0,               1]])\n",
    "T4_5 = T4_5.subs(s)\n",
    "\n",
    "T5_6 = Matrix([[             cos(q6),            -sin(q6),            0,              a5],\n",
    "               [ sin(q6)*cos(alpha5), cos(q6)*cos(alpha5), -sin(alpha5), -sin(alpha5)*d6],\n",
    "               [ sin(q6)*sin(alpha5), cos(q6)*sin(alpha5),  cos(alpha5),  cos(alpha5)*d6],\n",
    "               [                   0,                   0,            0,               1]])\n",
    "T5_6 = T5_6.subs(s)\n",
    "\n",
    "T6_G = Matrix([[             cos(q7),            -sin(q7),            0,              a6],\n",
    "               [ sin(q7)*cos(alpha6), cos(q7)*cos(alpha6), -sin(alpha6), -sin(alpha6)*d7],\n",
    "               [ sin(q7)*sin(alpha6), cos(q7)*sin(alpha6),  cos(alpha6),  cos(alpha6)*d7],\n",
    "               [                   0,                   0,            0,               1]])\n",
    "T6_G = T6_G.subs(s)"
   ]
  },
  {
   "cell_type": "code",
   "execution_count": 5,
   "metadata": {},
   "outputs": [],
   "source": [
    "T0_3 = (T0_1*T1_2*T2_3)"
   ]
  },
  {
   "cell_type": "code",
   "execution_count": 10,
   "metadata": {},
   "outputs": [
    {
     "name": "stdout",
     "output_type": "stream",
     "text": [
      "Matrix([[sin(q2)*cos(q1)*cos(q3) + sin(q3)*cos(q1)*cos(q2), -sin(q2)*sin(q3)*cos(q1) + cos(q1)*cos(q2)*cos(q3), -sin(q1), 1.25*sin(q2)*cos(q1) + 0.35*cos(q1)], [sin(q1)*sin(q2)*cos(q3) + sin(q1)*sin(q3)*cos(q2), -sin(q1)*sin(q2)*sin(q3) + sin(q1)*cos(q2)*cos(q3), cos(q1), 1.25*sin(q1)*sin(q2) + 0.35*sin(q1)], [-sin(q2)*sin(q3) + cos(q2)*cos(q3), -sin(q2)*cos(q3) - sin(q3)*cos(q2), 0, 1.25*cos(q2) + 0.75], [0, 0, 0, 1]])\n"
     ]
    }
   ],
   "source": [
    "print(T0_3)"
   ]
  },
  {
   "cell_type": "code",
   "execution_count": 9,
   "metadata": {},
   "outputs": [
    {
     "name": "stdout",
     "output_type": "stream",
     "text": [
      "R1 =  Matrix([[0.0556803675897998, 0.794134189528041, 0.605186405736040, 0.693459444369718], [-0.0423284603871460, -0.603704304381673, 0.796083798549056, -0.527170920230655], [0.997551000253280, -0.0699428473375328, 0, 1.88620718709361], [0, 0, 0, 1.00000000000000]])\n"
     ]
    }
   ],
   "source": [
    "print(\"R1 = \", T0_3.evalf(subs={q1: -0.65, q2: 0.43, q3: -0.36}))"
   ]
  },
  {
   "cell_type": "code",
   "execution_count": 8,
   "metadata": {},
   "outputs": [
    {
     "name": "stdout",
     "output_type": "stream",
     "text": [
      "R2 =  Matrix([[0, 1.00000000000000, 0, 0.350000000000000], [0, 0, 1.00000000000000, 0], [1.00000000000000, 0, 0, 2.00000000000000], [0, 0, 0, 1.00000000000000]])\n"
     ]
    }
   ],
   "source": [
    "print(\"R2 = \", T0_3.evalf(subs={q1: 0, q2: 0, q3: 0}))"
   ]
  },
  {
   "cell_type": "code",
   "execution_count": 3,
   "metadata": {},
   "outputs": [],
   "source": [
    "# Correction needed to account of orientation difference between definition of gripper link in URDF vs DH convention\n",
    "R_z = Matrix([[     cos(np.pi),     -sin(np.pi),              0,      0],\n",
    "              [     sin(np.pi),      cos(np.pi),              0,      0],\n",
    "              [              0,               0,              1,      0],\n",
    "              [              0,               0,              0,      1]])\n",
    "R_y = Matrix([[  cos(-np.pi/2),               0,  sin(-np.pi/2),      0],\n",
    "              [              0,               1,              0,      0],\n",
    "              [ -sin(-np.pi/2),               0,  cos(-np.pi/2),      0],\n",
    "              [              0,               0,              0,      1]])\n",
    "R_corr = simplify(R_z * R_y)"
   ]
  },
  {
   "cell_type": "code",
   "execution_count": 4,
   "metadata": {},
   "outputs": [
    {
     "name": "stdout",
     "output_type": "stream",
     "text": [
      "Matrix([[-6.12323399573677e-17, -1.22464679914735e-16, 1.00000000000000, 0], [7.49879891330929e-33, -1.00000000000000, -1.22464679914735e-16, 0], [1.00000000000000, 0, 6.12323399573677e-17, 0], [0, 0, 0, 1]])\n"
     ]
    }
   ],
   "source": [
    "print(R_corr)"
   ]
  },
  {
   "cell_type": "code",
   "execution_count": 6,
   "metadata": {},
   "outputs": [],
   "source": [
    "# Create individual transformation matrices\n",
    "T0_3 = simplify(T0_1*T1_2*T2_3)\n",
    "T0_G = simplify(T0_1*T1_2*T2_3*T3_4*T4_5*T5_6*T6_G)"
   ]
  },
  {
   "cell_type": "code",
   "execution_count": 9,
   "metadata": {},
   "outputs": [
    {
     "name": "stdout",
     "output_type": "stream",
     "text": [
      "R0_G =  Matrix([[0.0251526332781310, -0.463720067640772, 0.885624663108708], [-0.997544741581909, 0.0462779121956126, 0.0525627566352530], [-0.0653592654598988, -0.884772317441076, -0.461417503686726]])\n"
     ]
    }
   ],
   "source": [
    "R0_G = T0_G[0:3, 0:3]\n",
    "print(\"R0_G = \", R0_G.evalf(subs={q1: -0.65, q2: 0.43, q3: -0.36, q4: 0.95, q5: 0.79, q6: 0.49}))"
   ]
  },
  {
   "cell_type": "code",
   "execution_count": 10,
   "metadata": {},
   "outputs": [],
   "source": [
    "R_x = Matrix([[ 1,              0,        0],\n",
    "              [ 0,        cos(q1), -sin(q1)],\n",
    "              [ 0,        sin(q1),  cos(q1)]])\n",
    "\n",
    "R_y = Matrix([[ cos(q2),        0,  sin(q2)],\n",
    "              [       0,        1,        0],\n",
    "              [-sin(q2),        0,  cos(q2)]])\n",
    "\n",
    "R_z = Matrix([[ cos(q3), -sin(q3),        0],\n",
    "              [ sin(q3),  cos(q3),        0],\n",
    "              [ 0,              0,        1]])"
   ]
  },
  {
   "cell_type": "code",
   "execution_count": 15,
   "metadata": {},
   "outputs": [
    {
     "name": "stdout",
     "output_type": "stream",
     "text": [
      "Matrix([[sin(q2)*cos(q1), cos(q1)*cos(q2), -sin(q1), 0.35*cos(q1)], [sin(q1)*sin(q2), sin(q1)*cos(q2), cos(q1), 0.35*sin(q1)], [cos(q2), -sin(q2), 0, 0.750000000000000], [0, 0, 0, 1]])\n"
     ]
    }
   ],
   "source": [
    "T0_2 = simplify(T0_1*T1_2)\n",
    "print(T0_2)"
   ]
  },
  {
   "cell_type": "code",
   "execution_count": 18,
   "metadata": {},
   "outputs": [
    {
     "name": "stdout",
     "output_type": "stream",
     "text": [
      "Matrix([[sin(q2)*cos(q1), cos(q1)*cos(q2), -sin(q1)], [sin(q1)*sin(q2), sin(q1)*cos(q2), cos(q1)], [cos(q2), -sin(q2), 0]])\n"
     ]
    }
   ],
   "source": [
    "R0_1 = T0_1[:3, :3]\n",
    "R1_2 = T1_2[:3, :3]\n",
    "R0_2 = simplify(R0_1*R1_2)\n",
    "print(R0_2)"
   ]
  },
  {
   "cell_type": "code",
   "execution_count": null,
   "metadata": {},
   "outputs": [],
   "source": []
  },
  {
   "cell_type": "code",
   "execution_count": null,
   "metadata": {},
   "outputs": [],
   "source": []
  },
  {
   "cell_type": "code",
   "execution_count": null,
   "metadata": {},
   "outputs": [],
   "source": []
  },
  {
   "cell_type": "code",
   "execution_count": 12,
   "metadata": {},
   "outputs": [],
   "source": [
    "R_xyz = R_z*R_y*R_x * R_corr[0:3, 0:3]"
   ]
  },
  {
   "cell_type": "code",
   "execution_count": null,
   "metadata": {},
   "outputs": [],
   "source": [
    "print(\"R_xyz = \", R_xyz.evalf(subs={q1: -0.65, q2: 0.43, q3: -0.36, q4: 0.95, q5: 0.79, q6: 0.49}))"
   ]
  },
  {
   "cell_type": "code",
   "execution_count": null,
   "metadata": {},
   "outputs": [],
   "source": []
  },
  {
   "cell_type": "code",
   "execution_count": null,
   "metadata": {},
   "outputs": [],
   "source": []
  },
  {
   "cell_type": "code",
   "execution_count": null,
   "metadata": {},
   "outputs": [],
   "source": []
  },
  {
   "cell_type": "code",
   "execution_count": 63,
   "metadata": {},
   "outputs": [
    {
     "name": "stdout",
     "output_type": "stream",
     "text": [
      "T0_G =  Matrix([[1.00000000000000, 0, 6.12323399573677e-17, 2.15300000000000], [-7.49879891330929e-33, 1.00000000000000, 1.22464679914735e-16, 0], [-6.12323399573677e-17, -1.22464679914735e-16, 1.00000000000000, 1.94600000000000], [0, 0, 0, 1.00000000000000]])\n"
     ]
    }
   ],
   "source": [
    "T0_G = simplify(T0_G*R_corr)\n",
    "print(\"T0_G = \", T0_G.evalf(subs={q1: 0, q2: 0, q3: 0, q4: 0, q5: 0, q6: 0}))"
   ]
  },
  {
   "cell_type": "code",
   "execution_count": null,
   "metadata": {},
   "outputs": [],
   "source": []
  }
 ],
 "metadata": {
  "kernelspec": {
   "display_name": "Python 3",
   "language": "python",
   "name": "python3"
  },
  "language_info": {
   "codemirror_mode": {
    "name": "ipython",
    "version": 3
   },
   "file_extension": ".py",
   "mimetype": "text/x-python",
   "name": "python",
   "nbconvert_exporter": "python",
   "pygments_lexer": "ipython3",
   "version": "3.5.2"
  }
 },
 "nbformat": 4,
 "nbformat_minor": 2
}
